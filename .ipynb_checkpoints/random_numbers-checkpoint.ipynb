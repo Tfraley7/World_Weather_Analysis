{
 "cells": [
  {
   "cell_type": "code",
   "execution_count": 73,
   "id": "396078f8",
   "metadata": {},
   "outputs": [],
   "source": [
    "#import the random module.\n",
    "\n",
    "import random\n",
    "import numpy as np"
   ]
  },
  {
   "cell_type": "code",
   "execution_count": 74,
   "id": "64de25a7",
   "metadata": {},
   "outputs": [
    {
     "data": {
      "text/plain": [
       "-74"
      ]
     },
     "execution_count": 74,
     "metadata": {},
     "output_type": "execute_result"
    }
   ],
   "source": [
    "random.randint(-90, 90)"
   ]
  },
  {
   "cell_type": "code",
   "execution_count": 75,
   "id": "c420a742",
   "metadata": {},
   "outputs": [
    {
     "data": {
      "text/plain": [
       "0.4225199481204438"
      ]
     },
     "execution_count": 75,
     "metadata": {},
     "output_type": "execute_result"
    }
   ],
   "source": [
    "random.random()"
   ]
  },
  {
   "cell_type": "code",
   "execution_count": 76,
   "id": "a93a6bfd",
   "metadata": {},
   "outputs": [],
   "source": [
    "x = 1\n",
    "latitudes = []\n",
    "while x < 11:\n",
    "    random_lat = random.randint(-90, 89) + random.random()\n",
    "    latitudes.append(random_lat)\n",
    "    x += 1"
   ]
  },
  {
   "cell_type": "code",
   "execution_count": 77,
   "id": "345ceb1d",
   "metadata": {},
   "outputs": [
    {
     "data": {
      "text/plain": [
       "-39"
      ]
     },
     "execution_count": 77,
     "metadata": {},
     "output_type": "execute_result"
    }
   ],
   "source": [
    "random.randrange(-90, 90, step=3)"
   ]
  },
  {
   "cell_type": "code",
   "execution_count": 78,
   "id": "294b1aea",
   "metadata": {},
   "outputs": [
    {
     "data": {
      "text/plain": [
       "-10.40475631451271"
      ]
     },
     "execution_count": 78,
     "metadata": {},
     "output_type": "execute_result"
    }
   ],
   "source": [
    "random.uniform(-90, 90)"
   ]
  },
  {
   "cell_type": "code",
   "execution_count": 79,
   "id": "4d1abc45",
   "metadata": {},
   "outputs": [
    {
     "data": {
      "text/plain": [
       "array([ 77.43977781, -87.63664607,  36.7940691 ,  76.9951355 ,\n",
       "        70.52666463,  89.45635623, -68.67865702,  89.7721592 ,\n",
       "       -52.08357951, -51.95022704,  62.17300821, -40.76482137,\n",
       "        78.0633495 ,  -1.94403967,  57.70398355,  21.51075499,\n",
       "       -81.76717859, -47.83010498,  -3.43400892,  68.6389959 ,\n",
       "        84.01590986,  15.54927631, -51.12023878,   1.47906152,\n",
       "         8.6947389 ,  52.0749101 ,  34.39575069, -40.27558518,\n",
       "        39.65570911,  -9.18318234,  15.49938065, -71.88524111,\n",
       "       -24.07508113,  54.71473888, -86.77162699,  82.4922649 ,\n",
       "        -4.63730048,  59.07859183, -19.14367171,  50.2809573 ,\n",
       "       -78.9554342 ,   1.36843968,   8.03466908,  45.91772697,\n",
       "        -1.86987298,  58.16099125,  37.08937463,  56.81149828,\n",
       "        78.26686035,  46.48253037])"
      ]
     },
     "execution_count": 79,
     "metadata": {},
     "output_type": "execute_result"
    }
   ],
   "source": [
    "np.random.uniform(-90.000, 90.000, size = 50)"
   ]
  },
  {
   "cell_type": "code",
   "execution_count": 85,
   "id": "bb1bfc13",
   "metadata": {},
   "outputs": [],
   "source": [
    "# Import timeit.\n",
    "import timeit"
   ]
  },
  {
   "cell_type": "code",
   "execution_count": 86,
   "id": "a0dca18e",
   "metadata": {},
   "outputs": [
    {
     "name": "stdout",
     "output_type": "stream",
     "text": [
      "14.5 µs ± 80.2 ns per loop (mean ± std. dev. of 7 runs, 100,000 loops each)\n"
     ]
    }
   ],
   "source": [
    "%timeit np.random.uniform(-90.000, 90.000, size=1500)"
   ]
  },
  {
   "cell_type": "code",
   "execution_count": 87,
   "id": "f54eee5d",
   "metadata": {},
   "outputs": [
    {
     "name": "stdout",
     "output_type": "stream",
     "text": [
      "1.15 ms ± 2.1 µs per loop (mean ± std. dev. of 7 runs, 1,000 loops each)\n"
     ]
    }
   ],
   "source": [
    "def latitudes(size):\n",
    "    latitudes = []\n",
    "    x = 0\n",
    "    while x < (size):\n",
    "        random_lat = random.randint(-90, 90) + random.random()\n",
    "        latitudes.append(random_lat)\n",
    "        x += 1\n",
    "    return latitudes\n",
    "# Call the function with 1500.\n",
    "%timeit latitudes(1500)"
   ]
  },
  {
   "cell_type": "code",
   "execution_count": 88,
   "id": "7c59caf2",
   "metadata": {},
   "outputs": [],
   "source": [
    "# Import the dependencies.\n",
    "import pandas as pd\n",
    "import matplotlib.pyplot as plt\n",
    "import numpy as np"
   ]
  },
  {
   "cell_type": "code",
   "execution_count": 90,
   "id": "dc55aea7",
   "metadata": {},
   "outputs": [
    {
     "data": {
      "text/plain": [
       "<zip at 0x7fb0d0b8cc80>"
      ]
     },
     "execution_count": 90,
     "metadata": {},
     "output_type": "execute_result"
    }
   ],
   "source": [
    "# Create a set of random latitude and longitude combinations.\n",
    "lats = np.random.uniform(low=-90.000, high=90.000, size=1500)\n",
    "lngs = np.random.uniform(low=-180.000, high=180.000, size=1500)\n",
    "lat_lngs = zip(lats, lngs)\n",
    "lat_lngs"
   ]
  },
  {
   "cell_type": "code",
   "execution_count": null,
   "id": "62759633",
   "metadata": {},
   "outputs": [],
   "source": []
  }
 ],
 "metadata": {
  "kernelspec": {
   "display_name": "Python 3 (ipykernel)",
   "language": "python",
   "name": "python3"
  },
  "language_info": {
   "codemirror_mode": {
    "name": "ipython",
    "version": 3
   },
   "file_extension": ".py",
   "mimetype": "text/x-python",
   "name": "python",
   "nbconvert_exporter": "python",
   "pygments_lexer": "ipython3",
   "version": "3.9.12"
  }
 },
 "nbformat": 4,
 "nbformat_minor": 5
}
